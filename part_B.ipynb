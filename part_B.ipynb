{
 "cells": [
  {
   "cell_type": "markdown",
   "metadata": {},
   "source": [
    "# TECH 2 mandatory assignment - Part B"
   ]
  },
  {
   "cell_type": "markdown",
   "metadata": {},
   "source": [
    "Imports necessary libraries"
   ]
  },
  {
   "cell_type": "code",
   "execution_count": null,
   "metadata": {},
   "outputs": [],
   "source": [
    "import csv\n",
    "import numpy as np\n",
    "from math import sqrt"
   ]
  },
  {
   "cell_type": "markdown",
   "metadata": {},
   "source": [
    "Initializes three empty lists: seq_100, seq_1000, and seq_10000."
   ]
  },
  {
   "cell_type": "markdown",
   "metadata": {},
   "source": [
    "Reads a CSV file, extracting data into the three lists based on the first, second, and third columns"
   ]
  },
  {
   "cell_type": "code",
   "execution_count": null,
   "metadata": {},
   "outputs": [],
   "source": [
    "seq_100 = []\n",
    "seq_1000 = []\n",
    "seq_10000 = []\n",
    "\n",
    "with open(\"data.csv\", \"r\") as file:\n",
    "    csv_reader = csv.reader(file)\n",
    "    for row in csv_reader:\n",
    "        if row[0] != '':\n",
    "            seq_100.append(float(row[0]))\n",
    "        if row[1] != '':\n",
    "            seq_1000.append(float(row[1]))\n",
    "        if row[2] != '':\n",
    "            seq_10000.append(float(row[2]))\n"
   ]
  },
  {
   "cell_type": "markdown",
   "metadata": {},
   "source": [
    "Defines a function std_loops to compute the standard deviation manually using loops."
   ]
  },
  {
   "cell_type": "code",
   "execution_count": null,
   "metadata": {},
   "outputs": [],
   "source": [
    "def std_loops(seq_100):\n",
    "    N = len(seq_100)\n",
    "    \n",
    "    total_sum = 0\n",
    "    for num in seq_100:\n",
    "        total_sum += num\n",
    "    mean = total_sum / N\n",
    "    \n",
    "    sum_of_squares = 0\n",
    "    for num in seq_100:\n",
    "        sum_of_squares += num ** 2\n",
    "    mean_of_squares = sum_of_squares / N\n",
    "    \n",
    "    variance = mean_of_squares - mean ** 2\n",
    "    \n",
    "    standard_deviation = sqrt(variance)\n",
    "    \n",
    "    return standard_deviation"
   ]
  },
  {
   "cell_type": "markdown",
   "metadata": {},
   "source": [
    "Defines a function std_builtin to compute the standard deviation using Python's built-in functions like sum."
   ]
  },
  {
   "cell_type": "code",
   "execution_count": null,
   "metadata": {},
   "outputs": [],
   "source": [
    "def std_builtin(seq_100):\n",
    "\n",
    "    N = len(seq_100)\n",
    "    \n",
    "    mean = sum(seq_100) / N\n",
    "    \n",
    "    mean_of_squares = sum([num ** 2 for num in seq_100]) / N\n",
    "    \n",
    "    variance = mean_of_squares - mean ** 2\n",
    "    \n",
    "    standard_deviation = sqrt(variance)\n",
    "    \n",
    "    return standard_deviation"
   ]
  },
  {
   "cell_type": "markdown",
   "metadata": {},
   "source": [
    "Defines a function std_numpy to compute the standard deviation using NumPy's np.std() function."
   ]
  },
  {
   "cell_type": "code",
   "execution_count": null,
   "metadata": {},
   "outputs": [],
   "source": [
    "def std_numpy(seq_100):\n",
    "    return np.std(seq_100)"
   ]
  },
  {
   "cell_type": "code",
   "execution_count": null,
   "metadata": {},
   "outputs": [],
   "source": [
    "Calls the three standard deviation functions (std_loops, std_builtin, and std_numpy) for the seq_100 list and prints the results."
   ]
  },
  {
   "cell_type": "code",
   "execution_count": null,
   "metadata": {},
   "outputs": [],
   "source": [
    "result_loops = std_loops(seq_100)\n",
    "result_builtin = std_builtin(seq_100)\n",
    "result_numpy = std_numpy(seq_100)\n",
    "\n",
    "print(f\"Standard Deviation using loops: {result_loops}\")\n",
    "print(f\"Standard Deviation using builtin: {result_builtin}\")\n",
    "print(f\"Standard Deviation using numpy: {result_numpy}\")"
   ]
  },
  {
   "cell_type": "markdown",
   "metadata": {},
   "source": [
    "Repeats the process of calling and printing the results for seq_1000."
   ]
  },
  {
   "cell_type": "code",
   "execution_count": null,
   "metadata": {},
   "outputs": [],
   "source": [
    "result_loops = std_loops(seq_1000)\n",
    "result_builtin = std_builtin(seq_1000)\n",
    "result_numpy = std_numpy(seq_1000)\n",
    "\n",
    "print(f\"Standard Deviation using loops: {result_loops}\")\n",
    "print(f\"Standard Deviation using builtin: {result_builtin}\")\n",
    "print(f\"Standard Deviation using numpy: {result_numpy}\")"
   ]
  },
  {
   "cell_type": "markdown",
   "metadata": {},
   "source": [
    "Repeats the process of calling and printing the results for seq_10000."
   ]
  },
  {
   "cell_type": "code",
   "execution_count": null,
   "metadata": {},
   "outputs": [],
   "source": [
    "result_loops = std_loops(seq_10000)\n",
    "result_builtin = std_builtin(seq_10000)\n",
    "result_numpy = std_numpy(seq_10000)\n",
    "\n",
    "print(f\"Standard Deviation using loops: {result_loops}\")\n",
    "print(f\"Standard Deviation using builtin: {result_builtin}\")\n",
    "print(f\"Standard Deviation using numpy: {result_numpy}\")"
   ]
  },
  {
   "cell_type": "markdown",
   "metadata": {},
   "source": [
    "Uses the %timeit magic function to benchmark the performance of each standard deviation function for seq_100, seq_1000, seq_10000"
   ]
  },
  {
   "cell_type": "code",
   "execution_count": null,
   "metadata": {},
   "outputs": [],
   "source": [
    "%timeit std_loops(seq_100)\n",
    "%timeit std_builtin(seq_100)\n",
    "%timeit np.std(seq_100)\n",
    "\n",
    "%timeit std_loops(seq_1000)\n",
    "%timeit std_builtin(seq_1000)\n",
    "%timeit np.std(seq_1000)\n",
    "\n",
    "%timeit std_loops(seq_10000)\n",
    "%timeit std_builtin(seq_10000)\n",
    "%timeit np.std(seq_10000)\n"
   ]
  },
  {
   "cell_type": "markdown",
   "metadata": {},
   "source": [
    "Conclution: \n",
    "For small datasets, using built-in Python functions is generally the most efficient, but as you increases the size of the datasets, NumPy becomes the clear winner in terms of speed."
   ]
  }
 ],
 "metadata": {
  "kernelspec": {
   "display_name": "Python 3 (ipykernel)",
   "language": "python",
   "name": "python3"
  },
  "language_info": {
   "codemirror_mode": {
    "name": "ipython",
    "version": 3
   },
   "file_extension": ".py",
   "mimetype": "text/x-python",
   "name": "python",
   "nbconvert_exporter": "python",
   "pygments_lexer": "ipython3",
   "version": "3.10.13"
  }
 },
 "nbformat": 4,
 "nbformat_minor": 4
}
